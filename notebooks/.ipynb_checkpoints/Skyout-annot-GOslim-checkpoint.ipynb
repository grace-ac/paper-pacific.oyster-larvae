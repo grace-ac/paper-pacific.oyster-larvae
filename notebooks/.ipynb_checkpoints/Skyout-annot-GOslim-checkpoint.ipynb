{
 "cells": [
  {
   "cell_type": "markdown",
   "metadata": {},
   "source": [
    "# Notebook to annotate _C. gigas_ 2015 DIA Skyline Output with GO slim "
   ]
  },
  {
   "cell_type": "code",
   "execution_count": 1,
   "metadata": {},
   "outputs": [
    {
     "data": {
      "text/plain": [
       "'/Users/graciecrandall/Documents/GitHub/paper-pacific.oyster-larvae/notebooks'"
      ]
     },
     "execution_count": 1,
     "metadata": {},
     "output_type": "execute_result"
    }
   ],
   "source": [
    "pwd"
   ]
  },
  {
   "cell_type": "code",
   "execution_count": 4,
   "metadata": {},
   "outputs": [
    {
     "name": "stdout",
     "output_type": "stream",
     "text": [
      "/Users/graciecrandall/Documents/GitHub/paper-pacific.oyster-larvae/analyses/0401-blastp\n"
     ]
    }
   ],
   "source": [
    "cd /Users/graciecrandall/Documents/GitHub/paper-pacific.oyster-larvae/analyses/0401-blastp/"
   ]
  },
  {
   "cell_type": "code",
   "execution_count": 5,
   "metadata": {},
   "outputs": [
    {
     "name": "stdout",
     "output_type": "stream",
     "text": [
      "0327-cgseedblast-sprot.tab  _blast-annot.tab\r\n",
      "Blastquery-GOslim.tab       _blast-sep.tab\r\n",
      "GO-GOslim.sorted            _blast-sort.tab\r\n",
      "_blast-GO-unfolded.sorted   _intermediate.file\r\n",
      "_blast-GO-unfolded.tab      uniprot-SP-GO.sorted\r\n"
     ]
    }
   ],
   "source": [
    "ls"
   ]
  },
  {
   "cell_type": "markdown",
   "metadata": {},
   "source": [
    "### Join Blastquery-GOslim.tab with Skyline output"
   ]
  },
  {
   "cell_type": "code",
   "execution_count": 6,
   "metadata": {
    "scrolled": true
   },
   "outputs": [
    {
     "name": "stdout",
     "output_type": "stream",
     "text": [
      "  % Total    % Received % Xferd  Average Speed   Time    Time     Time  Current\n",
      "                                 Dload  Upload   Total   Spent    Left  Speed\n",
      "100 89.0M  100 89.0M    0     0  1402k      0  0:01:05  0:01:05 --:--:--  9.9M0:34  0:12:31   6520   530k      0  0:02:51  0:00:51  0:02:00     034 30.8M    0     0   571k      0  0:02:39  0:00:55  0:01:44  887k\n"
     ]
    }
   ],
   "source": [
    "#add skyline output to the directory\n",
    "!curl -O http://owl.fish.washington.edu/scaphapoda/grace/2015-Cgseed-DIA/post-EncyclopeDIA-Skyline/20181218-SkytoMSstats-report.csv"
   ]
  },
  {
   "cell_type": "code",
   "execution_count": 7,
   "metadata": {},
   "outputs": [
    {
     "name": "stdout",
     "output_type": "stream",
     "text": [
      "0327-cgseedblast-sprot.tab        _blast-annot.tab\r\n",
      "20181218-SkytoMSstats-report.csv  _blast-sep.tab\r\n",
      "Blastquery-GOslim.tab             _blast-sort.tab\r\n",
      "GO-GOslim.sorted                  _intermediate.file\r\n",
      "_blast-GO-unfolded.sorted         uniprot-SP-GO.sorted\r\n",
      "_blast-GO-unfolded.tab\r\n"
     ]
    }
   ],
   "source": [
    "ls"
   ]
  },
  {
   "cell_type": "code",
   "execution_count": 8,
   "metadata": {
    "collapsed": true
   },
   "outputs": [],
   "source": [
    "#set skyline output as an object\n",
    "skyout=\"20181218-SkytoMSstats-report.csv\""
   ]
  },
  {
   "cell_type": "code",
   "execution_count": 10,
   "metadata": {},
   "outputs": [
    {
     "name": "stdout",
     "output_type": "stream",
     "text": [
      "Protein Name,Peptide Sequence,Peptide Modified Sequence,Precursor Charge,Precursor Mz,Fragment Ion,Product Charge,Product Mz,Isotope Label Type,Condition,BioReplicate,File Name,Area,Standard Type,Truncated,Detection Q Value,Replicate Name\r",
      "\r\n",
      "CHOYP_043R.5.5|m.64252,ADTVGLEYLTDYK,ADTVGLEYLTDYK,2,744.366846,y9,1,1101.546267,light,23C,1,2015_December_30_DIA_oysterseed3.mzML,23829,,False,0.0001,Oysterseed_01\r",
      "\r\n",
      "CHOYP_043R.5.5|m.64252,ADTVGLEYLTDYK,ADTVGLEYLTDYK,2,744.366846,y9,1,1101.546267,light,29C,2,2015_December_30_DIA_oysterseed7.mzML,102778,,False,0.0001,Oysterseed_02\r",
      "\r\n",
      "CHOYP_043R.5.5|m.64252,ADTVGLEYLTDYK,ADTVGLEYLTDYK,2,744.366846,y9,1,1101.546267,light,23C,1,2015_December_30_DIA_oysterseed11.mzML,57795,,False,0.0001,Oysterseed_13\r",
      "\r\n",
      "CHOYP_043R.5.5|m.64252,ADTVGLEYLTDYK,ADTVGLEYLTDYK,2,744.366846,y9,1,1101.546267,light,29C,2,2015_December_30_oysterseed15.mzML,89537,,False,0.0001,Oysterseed_14\r",
      "\r\n",
      "CHOYP_043R.5.5|m.64252,ADTVGLEYLTDYK,ADTVGLEYLTDYK,2,744.366846,y4,1,526.250754,light,23C,1,2015_December_30_DIA_oysterseed3.mzML,4036,,False,0.0001,Oysterseed_01\r",
      "\r\n",
      "CHOYP_043R.5.5|m.64252,ADTVGLEYLTDYK,ADTVGLEYLTDYK,2,744.366846,y4,1,526.250754,light,29C,2,2015_December_30_DIA_oysterseed7.mzML,53006,,False,0.0001,Oysterseed_02\r",
      "\r\n",
      "CHOYP_043R.5.5|m.64252,ADTVGLEYLTDYK,ADTVGLEYLTDYK,2,744.366846,y4,1,526.250754,light,23C,1,2015_December_30_DIA_oysterseed11.mzML,17726,,False,0.0001,Oysterseed_13\r",
      "\r\n",
      "CHOYP_043R.5.5|m.64252,ADTVGLEYLTDYK,ADTVGLEYLTDYK,2,744.366846,y4,1,526.250754,light,29C,2,2015_December_30_oysterseed15.mzML,41894,,False,0.0001,Oysterseed_14\r",
      "\r\n",
      "CHOYP_14332.1.2|m.5643,YDDMADAMK,YDDMADAMK,2,530.209717,y8,1,896.34883,light,23C,1,2016_Feb_01_DIA_oyster5.mzML,2191455,,False,0.0001,Oysterseed_01\r",
      "\r\n"
     ]
    }
   ],
   "source": [
    "!head $skyout"
   ]
  },
  {
   "cell_type": "code",
   "execution_count": 11,
   "metadata": {
    "collapsed": true
   },
   "outputs": [],
   "source": [
    "#change pipes to tabs\n",
    "!tr '|' '\\t' < $skyout \\\n",
    "> _skyout-sep.tab"
   ]
  },
  {
   "cell_type": "code",
   "execution_count": 12,
   "metadata": {
    "scrolled": true
   },
   "outputs": [
    {
     "name": "stdout",
     "output_type": "stream",
     "text": [
      "Protein Name,Peptide Sequence,Peptide Modified Sequence,Precursor Charge,Precursor Mz,Fragment Ion,Product Charge,Product Mz,Isotope Label Type,Condition,BioReplicate,File Name,Area,Standard Type,Truncated,Detection Q Value,Replicate Name\r",
      "\r\n",
      "CHOYP_043R.5.5\tm.64252,ADTVGLEYLTDYK,ADTVGLEYLTDYK,2,744.366846,y9,1,1101.546267,light,23C,1,2015_December_30_DIA_oysterseed3.mzML,23829,,False,0.0001,Oysterseed_01\r",
      "\r\n"
     ]
    }
   ],
   "source": [
    "!head -2 _skyout-sep.tab"
   ]
  },
  {
   "cell_type": "code",
   "execution_count": 13,
   "metadata": {
    "collapsed": true
   },
   "outputs": [],
   "source": [
    "#reduce number of columns to just the interesting ones and sort\n",
    "!awk -v OFS='\\t' '{print $17, $10, $13, $1}' < _skyout-sep.tab | sort \\\n",
    "> _skyout-sort.tab"
   ]
  },
  {
   "cell_type": "code",
   "execution_count": 14,
   "metadata": {},
   "outputs": [
    {
     "name": "stdout",
     "output_type": "stream",
     "text": [
      "\t\t\tCHOYP_043R.5.5\r\n",
      "\t\t\tCHOYP_043R.5.5\r\n"
     ]
    }
   ],
   "source": [
    "!head -2 _skyout-sort.tab"
   ]
  },
  {
   "cell_type": "code",
   "execution_count": 15,
   "metadata": {
    "collapsed": true
   },
   "outputs": [],
   "source": [
    "#translate commas to tabs\n",
    "!tr ',' '\\t' < _skyout-sep.tab \\\n",
    "> _skyout-real-sep.tab"
   ]
  },
  {
   "cell_type": "code",
   "execution_count": 16,
   "metadata": {},
   "outputs": [
    {
     "name": "stdout",
     "output_type": "stream",
     "text": [
      "Protein Name\tPeptide Sequence\tPeptide Modified Sequence\tPrecursor Charge\tPrecursor Mz\tFragment Ion\tProduct Charge\tProduct Mz\tIsotope Label Type\tCondition\tBioReplicate\tFile Name\tArea\tStandard Type\tTruncated\tDetection Q Value\tReplicate Name\r",
      "\r\n",
      "CHOYP_043R.5.5\tm.64252\tADTVGLEYLTDYK\tADTVGLEYLTDYK\t2\t744.366846\ty9\t1\t1101.546267\tlight\t23C\t1\t2015_December_30_DIA_oysterseed3.mzML\t23829\t\tFalse\t0.0001\tOysterseed_01\r",
      "\r\n",
      "CHOYP_043R.5.5\tm.64252\tADTVGLEYLTDYK\tADTVGLEYLTDYK\t2\t744.366846\ty9\t1\t1101.546267\tlight\t29C\t2\t2015_December_30_DIA_oysterseed7.mzML\t102778\t\tFalse\t0.0001\tOysterseed_02\r",
      "\r\n",
      "CHOYP_043R.5.5\tm.64252\tADTVGLEYLTDYK\tADTVGLEYLTDYK\t2\t744.366846\ty9\t1\t1101.546267\tlight\t23C\t1\t2015_December_30_DIA_oysterseed11.mzML\t57795\t\tFalse\t0.0001\tOysterseed_13\r",
      "\r\n",
      "CHOYP_043R.5.5\tm.64252\tADTVGLEYLTDYK\tADTVGLEYLTDYK\t2\t744.366846\ty9\t1\t1101.546267\tlight\t29C\t2\t2015_December_30_oysterseed15.mzML\t89537\t\tFalse\t0.0001\tOysterseed_14\r",
      "\r\n",
      "CHOYP_043R.5.5\tm.64252\tADTVGLEYLTDYK\tADTVGLEYLTDYK\t2\t744.366846\ty4\t1\t526.250754\tlight\t23C\t1\t2015_December_30_DIA_oysterseed3.mzML\t4036\t\tFalse\t0.0001\tOysterseed_01\r",
      "\r\n",
      "CHOYP_043R.5.5\tm.64252\tADTVGLEYLTDYK\tADTVGLEYLTDYK\t2\t744.366846\ty4\t1\t526.250754\tlight\t29C\t2\t2015_December_30_DIA_oysterseed7.mzML\t53006\t\tFalse\t0.0001\tOysterseed_02\r",
      "\r\n",
      "CHOYP_043R.5.5\tm.64252\tADTVGLEYLTDYK\tADTVGLEYLTDYK\t2\t744.366846\ty4\t1\t526.250754\tlight\t23C\t1\t2015_December_30_DIA_oysterseed11.mzML\t17726\t\tFalse\t0.0001\tOysterseed_13\r",
      "\r\n",
      "CHOYP_043R.5.5\tm.64252\tADTVGLEYLTDYK\tADTVGLEYLTDYK\t2\t744.366846\ty4\t1\t526.250754\tlight\t29C\t2\t2015_December_30_oysterseed15.mzML\t41894\t\tFalse\t0.0001\tOysterseed_14\r",
      "\r\n",
      "CHOYP_14332.1.2\tm.5643\tYDDMADAMK\tYDDMADAMK\t2\t530.209717\ty8\t1\t896.34883\tlight\t23C\t1\t2016_Feb_01_DIA_oyster5.mzML\t2191455\t\tFalse\t0.0001\tOysterseed_01\r",
      "\r\n"
     ]
    }
   ],
   "source": [
    "!head _skyout-real-sep.tab"
   ]
  },
  {
   "cell_type": "code",
   "execution_count": null,
   "metadata": {
    "collapsed": true
   },
   "outputs": [],
   "source": [
    "#reduce number of columns to just the interesting ones\n",
    "!awk -v OFS='\\t' '{print $17, $10, $13, $1}' < _skyout-real-sep.tab | sort \\\n",
    "> _skyout-real-sort.tab"
   ]
  },
  {
   "cell_type": "code",
   "execution_count": null,
   "metadata": {
    "collapsed": true
   },
   "outputs": [],
   "source": [
    "!head -2 _skyout-real-sort.tab"
   ]
  }
 ],
 "metadata": {
  "kernelspec": {
   "display_name": "Python [default]",
   "language": "python",
   "name": "python3"
  },
  "language_info": {
   "codemirror_mode": {
    "name": "ipython",
    "version": 3
   },
   "file_extension": ".py",
   "mimetype": "text/x-python",
   "name": "python",
   "nbconvert_exporter": "python",
   "pygments_lexer": "ipython3",
   "version": "3.5.3"
  }
 },
 "nbformat": 4,
 "nbformat_minor": 2
}
