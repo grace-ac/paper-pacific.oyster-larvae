{
 "cells": [
  {
   "cell_type": "markdown",
   "metadata": {},
   "source": [
    "# Notebook to take BLASTp _C. gigas_ to GOslim"
   ]
  },
  {
   "cell_type": "markdown",
   "metadata": {},
   "source": [
    "### Based on notebook: https://github.com/RobertsLab/code/blob/master/10-blast-2-slim.ipynb "
   ]
  },
  {
   "cell_type": "code",
   "execution_count": 1,
   "metadata": {},
   "outputs": [
    {
     "data": {
      "text/plain": [
       "'/Users/graciecrandall/Documents/GitHub/paper-pacific.oyster-larvae/notebooks'"
      ]
     },
     "execution_count": 1,
     "metadata": {},
     "output_type": "execute_result"
    }
   ],
   "source": [
    "pwd"
   ]
  },
  {
   "cell_type": "code",
   "execution_count": 2,
   "metadata": {
    "collapsed": true
   },
   "outputs": [],
   "source": [
    "wd=\"/Users/graciecrandall/Documents/GitHub/paper-pacific.oyster-larvae/analyses/BLAST-to-GOslim/\""
   ]
  },
  {
   "cell_type": "code",
   "execution_count": 3,
   "metadata": {},
   "outputs": [
    {
     "name": "stdout",
     "output_type": "stream",
     "text": [
      "/Users/graciecrandall/Documents/GitHub/paper-pacific.oyster-larvae/analyses/BLAST-to-GOslim\n"
     ]
    }
   ],
   "source": [
    "cd $wd"
   ]
  },
  {
   "cell_type": "code",
   "execution_count": 8,
   "metadata": {},
   "outputs": [
    {
     "name": "stdout",
     "output_type": "stream",
     "text": [
      "  % Total    % Received % Xferd  Average Speed   Time    Time     Time  Current\n",
      "                                 Dload  Upload   Total   Spent    Left  Speed\n",
      "100 2967k  100 2967k    0     0  2274k      0  0:00:01  0:00:01 --:--:-- 3160k\n"
     ]
    }
   ],
   "source": [
    "!curl -O https://raw.githubusercontent.com/grace-ac/paper-pacific.oyster-larvae/master/analyses/0327-cgseedblast-sprot.tab"
   ]
  },
  {
   "cell_type": "markdown",
   "metadata": {},
   "source": [
    "#### BLASTp was performed on CoEnv Mox Hyak computing system by sr320. He used the new uniprot/sprot .fasta and database (http://gannet.fish.washington.edu/metacarcinus/Cgigas/uniprot_swprot2019_01.fasta) and used the same proteome I used for DIA analysis (https://raw.githubusercontent.com/grace-ac/paper-pacific.oyster-larvae/master/data/Cg_Giga_cont_prtc_AA.fasta)"
   ]
  },
  {
   "cell_type": "code",
   "execution_count": 4,
   "metadata": {},
   "outputs": [
    {
     "name": "stdout",
     "output_type": "stream",
     "text": [
      "0327-cgseedblast-sprot.tab         _blast-annot.tab\r\n",
      "20190403-2015Cgseed-protcomp.csv   _blast-sep.tab\r\n",
      "20190403-2015Cgseed-protcomp.tab   _blast-sort.tab\r\n",
      "Blastquery-GOslim.tab              _intermediate.file\r\n",
      "GO-GOslim.sorted                   _prot-comp-annot.tab\r\n",
      "_MSout-noq-sep.tab                 _prot-comp-final.tab\r\n",
      "_MSout-real-sep.tab                _prot-comp.tab\r\n",
      "_MSout-sep.tab                     _protcomp-diff-annot.tab\r\n",
      "_MSout-sort.tab                    proteins_comp_annot_threshold.csv\r\n",
      "_blast-GO-unfolded.sorted          proteins_comp_annot_threshold.tab\r\n",
      "_blast-GO-unfolded.tab             readme.md\r\n"
     ]
    }
   ],
   "source": [
    "ls"
   ]
  },
  {
   "cell_type": "markdown",
   "metadata": {},
   "source": [
    "# Need three files"
   ]
  },
  {
   "cell_type": "markdown",
   "metadata": {},
   "source": [
    "1) BLASTp output format 6: https://raw.githubusercontent.com/grace-ac/paper-pacific.oyster-larvae/master/analyses/0327-cgseedblast-sprot.tab            \n",
    "2) Uniprot GO annotation file (340M) available here: http://owl.fish.washington.edu/halfshell/bu-alanine-wd/17-07-20/uniprot-SP-GO.sorted         \n",
    "3) GOslim file available here: http://owl.fish.washington.edu/halfshell/bu-alanine-wd/17-07-20/GO-GOslim.sorted"
   ]
  },
  {
   "cell_type": "code",
   "execution_count": 10,
   "metadata": {},
   "outputs": [
    {
     "name": "stdout",
     "output_type": "stream",
     "text": [
      "  % Total    % Received % Xferd  Average Speed   Time    Time     Time  Current\n",
      "                                 Dload  Upload   Total   Spent    Left  Speed\n",
      "100 2314k  100 2314k    0     0   528k      0  0:00:04  0:00:04 --:--:-- 4382k\n"
     ]
    }
   ],
   "source": [
    "!curl -O http://owl.fish.washington.edu/halfshell/bu-alanine-wd/17-07-20/GO-GOslim.sorted"
   ]
  },
  {
   "cell_type": "code",
   "execution_count": 5,
   "metadata": {},
   "outputs": [
    {
     "name": "stdout",
     "output_type": "stream",
     "text": [
      "  % Total    % Received % Xferd  Average Speed   Time    Time     Time  Current\n",
      "                                 Dload  Upload   Total   Spent    Left  Speed\n",
      "100  340M  100  340M    0     0  3283k      0  0:01:46  0:01:46 --:--:-- 3914k:02:22  0:00:39  0:01:43 4143k\n"
     ]
    }
   ],
   "source": [
    "!curl -O  http://owl.fish.washington.edu/halfshell/bu-alanine-wd/17-07-20/uniprot-SP-GO.sorted"
   ]
  },
  {
   "cell_type": "code",
   "execution_count": 6,
   "metadata": {},
   "outputs": [
    {
     "name": "stdout",
     "output_type": "stream",
     "text": [
      "0327-cgseedblast-sprot.tab        _blast-sep.tab\r\n",
      "20190403-2015Cgseed-protcomp.csv  _blast-sort.tab\r\n",
      "20190403-2015Cgseed-protcomp.tab  _intermediate.file\r\n",
      "Blastquery-GOslim.tab             _prot-comp-annot.tab\r\n",
      "GO-GOslim.sorted                  _prot-comp-final.tab\r\n",
      "_MSout-noq-sep.tab                _prot-comp.tab\r\n",
      "_MSout-real-sep.tab               _protcomp-diff-annot.tab\r\n",
      "_MSout-sep.tab                    proteins_comp_annot_threshold.csv\r\n",
      "_MSout-sort.tab                   proteins_comp_annot_threshold.tab\r\n",
      "_blast-GO-unfolded.sorted         readme.md\r\n",
      "_blast-GO-unfolded.tab            uniprot-SP-GO.sorted\r\n",
      "_blast-annot.tab\r\n"
     ]
    }
   ],
   "source": [
    "#check that all three files are in directory\n",
    "!ls"
   ]
  },
  {
   "cell_type": "code",
   "execution_count": 7,
   "metadata": {
    "collapsed": true
   },
   "outputs": [],
   "source": [
    "#set blast output as variable\n",
    "blastout=\"0327-cgseedblast-sprot.tab\""
   ]
  },
  {
   "cell_type": "code",
   "execution_count": 8,
   "metadata": {},
   "outputs": [
    {
     "name": "stdout",
     "output_type": "stream",
     "text": [
      "CHOYP_14332.1.2|m.5643\tsp|Q2F637|1433Z_BOMMO\t66.031\t262\t74\t2\t19\t280\t1\t247\t2.78e-119\t344\r\n",
      "CHOYP_14332.1.2|m.5644\tsp|P62325|BTG1_MOUSE\t47.205\t161\t80\t2\t1\t156\t11\t171\t2.22e-47\t155\r\n"
     ]
    }
   ],
   "source": [
    "!head -2 $blastout"
   ]
  },
  {
   "cell_type": "code",
   "execution_count": 9,
   "metadata": {
    "collapsed": true
   },
   "outputs": [],
   "source": [
    "#convert pipes to tab\n",
    "!tr '|' '\\t' < $blastout \\\n",
    "> _blast-sep.tab"
   ]
  },
  {
   "cell_type": "code",
   "execution_count": 10,
   "metadata": {},
   "outputs": [
    {
     "name": "stdout",
     "output_type": "stream",
     "text": [
      "CHOYP_14332.1.2\tm.5643\tsp\tQ2F637\t1433Z_BOMMO\t66.031\t262\t74\t2\t19\t280\t1\t247\t2.78e-119\t344\r\n",
      "CHOYP_14332.1.2\tm.5644\tsp\tP62325\tBTG1_MOUSE\t47.205\t161\t80\t2\t1\t156\t11\t171\t2.22e-47\t155\r\n"
     ]
    }
   ],
   "source": [
    "!head -2 _blast-sep.tab"
   ]
  },
  {
   "cell_type": "code",
   "execution_count": 11,
   "metadata": {
    "collapsed": true
   },
   "outputs": [],
   "source": [
    "#reducing number of columns and sorting \n",
    "!awk -v OFS='\\t' '{print $4, $1, $14}' < _blast-sep.tab | sort \\\n",
    "> _blast-sort.tab"
   ]
  },
  {
   "cell_type": "code",
   "execution_count": 12,
   "metadata": {},
   "outputs": [
    {
     "name": "stdout",
     "output_type": "stream",
     "text": [
      "A0A0B5AC98\tCHOYP_MPI1.1.1\t1.61e-63\r\n",
      "A0A0F7YYX3\tCHOYP_LOC658640.1.2\t3.61e-21\r\n"
     ]
    }
   ],
   "source": [
    "!head -2 _blast-sort.tab"
   ]
  },
  {
   "cell_type": "code",
   "execution_count": 13,
   "metadata": {
    "collapsed": true
   },
   "outputs": [],
   "source": [
    "#joining blast with uniprot annoation file and reducing to three columns UniprotID, Query, All GO terms\n",
    "!join -t $'\\t' \\\n",
    "_blast-sort.tab \\\n",
    "uniprot-SP-GO.sorted \\\n",
    "| cut -f1,2,14 \\\n",
    "> _blast-annot.tab"
   ]
  },
  {
   "cell_type": "code",
   "execution_count": 14,
   "metadata": {},
   "outputs": [
    {
     "name": "stdout",
     "output_type": "stream",
     "text": [
      "A0A0B5AC98\tCHOYP_MPI1.1.1\tGO:0005179; GO:0005576; GO:0006006\r\n",
      "A0A0F7YYX3\tCHOYP_LOC658640.1.2\tGO:0005576\r\n"
     ]
    }
   ],
   "source": [
    "!head -2 _blast-annot.tab"
   ]
  },
  {
   "cell_type": "markdown",
   "metadata": {},
   "source": [
    "## The following is a script modified from Sam"
   ]
  },
  {
   "cell_type": "code",
   "execution_count": 15,
   "metadata": {
    "collapsed": true
   },
   "outputs": [],
   "source": [
    "%%bash \n",
    "\n",
    "# This script was originally written to address a specific problem that Rhonda was having\n",
    "\n",
    "\n",
    "\n",
    "# input_file is the initial, \"problem\" file\n",
    "# file is an intermediate file that most of the program works upon\n",
    "# output_file is the final file produced by the script\n",
    "input_file=\"_blast-annot.tab\"\n",
    "file=\"_intermediate.file\"\n",
    "output_file=\"_blast-GO-unfolded.tab\"\n",
    "\n",
    "# sed command substitutes the \"; \" sequence to a tab and writes the new format to a new file.\n",
    "# This character sequence is how the GO terms are delimited in their field.\n",
    "sed $'s/; /\\t/g' \"$input_file\" > \"$file\"\n",
    "\n",
    "# Identify first field containing a GO term.\n",
    "# Search file with grep for \"GO:\" and pipe to awk.\n",
    "# Awk sets tab as field delimiter (-F'\\t'), runs a for loop that looks for \"GO:\" (~/GO:/), and then prints the field number).\n",
    "# Awk results are piped to sort, which sorts unique by number (-ug).\n",
    "# Sort results are piped to head to retrieve the lowest value (i.e. the top of the list; \"-n1\").\n",
    "begin_goterms=$(grep \"GO:\" \"$file\" | awk -F'\\t' '{for (i=1;i<=NF;i++) if($i ~/GO:/) print i}' | sort -ug | head -n1)\n",
    "\n",
    "# While loop to process each line of the input file.\n",
    "while read -r line\n",
    "\tdo\n",
    "\t\n",
    "\t# Send contents of the current line to awk.\n",
    "\t# Set the field separator as a tab (-F'\\t') and print the number of fields in that line.\n",
    "\t# Save the results of the echo/awk pipe (i.e. number of fields) to the variable \"max_field\".\n",
    "\tmax_field=$(echo \"$line\" | awk -F'\\t' '{print NF}')\n",
    "\n",
    "\t# Send contents of current line to cut.\n",
    "\t# Cut fields (i.e. retain those fields) 1-12.\n",
    "\t# Save the results of the echo/cut pipe (i.e. fields 1-12) to the variable \"fixed_fields\"\n",
    "\tfixed_fields=$(echo \"$line\" | cut -f1-2)\n",
    "\n",
    "\t# Since not all the lines contain the same number of fields (e.g. may not have GO terms),\n",
    "\t# evaluate the number of fields in each line to determine how to handle current line.\n",
    "\n",
    "\t# If the value in max_field is less than the field number where the GO terms begin,\n",
    "\t# then just print the current line (%s) followed by a newline (\\n).\n",
    "\tif (( \"$max_field\" < \"$begin_goterms\" ))\n",
    "\t\tthen printf \"%s\\t\\n\" \"$line\"\n",
    "\t\t\telse\n",
    "\n",
    "\t\t\t# Send contents of current line (which contains GO terms) to cut.\n",
    "\t\t\t# Cut fields (i.e. retain those fields) 13 to whatever the last field is in the curent line.\n",
    "\t\t\t# Save the results of the echo/cut pipe (i.e. all the GO terms fields) to the variable \"goterms\".\n",
    "\t\t\tgoterms=$(echo \"$line\" | cut -f\"$begin_goterms\"-\"$max_field\")\n",
    "\t\t\t\n",
    "\t\t\t# Assign values in the variable \"goterms\" to a new indexed array (called \"array\"), \n",
    "\t\t\t# with tab delimiter (IFS=$'\\t')\n",
    "\t\t\tIFS=$'\\t' read -r -a array <<<\"$goterms\"\n",
    "\t\t\t\n",
    "\t\t\t# Iterate through each element of the array.\n",
    "\t\t\t# Print the first 12 fields (i.e. the fields stored in \"fixed_fields\") followed by a tab (%s\\t).\n",
    "\t\t\t# Print the current element in the array (i.e. the current GO term) followed by a new line (%s\\n).\n",
    "\t\t\tfor element in \"${!array[@]}\"\t\n",
    "\t\t\t\tdo printf \"%s\\t%s\\n\" \"$fixed_fields\" \"${array[$element]}\"\n",
    "\t\t\tdone\n",
    "\tfi\n",
    "\n",
    "# Send the input file into the while loop and send the output to a file named \"rhonda_fixed.txt\".\n",
    "done < \"$file\" > \"$output_file\""
   ]
  },
  {
   "cell_type": "code",
   "execution_count": 16,
   "metadata": {},
   "outputs": [
    {
     "name": "stdout",
     "output_type": "stream",
     "text": [
      "A0A0B5AC98\tCHOYP_MPI1.1.1\tGO:0005179\r\n",
      "A0A0B5AC98\tCHOYP_MPI1.1.1\tGO:0005576\r\n",
      "A0A0B5AC98\tCHOYP_MPI1.1.1\tGO:0006006\r\n",
      "A0A0F7YYX3\tCHOYP_LOC658640.1.2\tGO:0005576\r\n",
      "A0A0F7YYX3\tCHOYP_LOC658640.2.2\tGO:0005576\r\n",
      "A0A0G2K344\tCHOYP_PK3CA.1.1\tGO:0001525\r\n",
      "A0A0G2K344\tCHOYP_PK3CA.1.1\tGO:0002250\r\n",
      "A0A0G2K344\tCHOYP_PK3CA.1.1\tGO:0004674\r\n",
      "A0A0G2K344\tCHOYP_PK3CA.1.1\tGO:0005524\r\n",
      "A0A0G2K344\tCHOYP_PK3CA.1.1\tGO:0005737\r\n"
     ]
    }
   ],
   "source": [
    "!head _blast-GO-unfolded.tab"
   ]
  },
  {
   "cell_type": "code",
   "execution_count": 17,
   "metadata": {
    "collapsed": true
   },
   "outputs": [],
   "source": [
    "#remove lines with no GO IDs\n",
    "!sort -k3 _blast-GO-unfolded.tab > _blast-GO-unfolded.sorted"
   ]
  },
  {
   "cell_type": "code",
   "execution_count": 18,
   "metadata": {},
   "outputs": [
    {
     "name": "stdout",
     "output_type": "stream",
     "text": [
      "P11029\tCHOYP_ACAC.2.2\tGO:2001295\r\n",
      "P11029\tCHOYP_ACACA.1.7\tGO:2001295\r\n",
      "P11029\tCHOYP_ACACA.1.7\tGO:2001295\r\n",
      "P11497\tCHOYP_ACACA.3.7\tGO:2001295\r\n",
      "Q9TTS3\tCHOYP_ACACA.3.7\tGO:2001295\r\n",
      "Q9TTS3\tCHOYP_ACACA.6.7\tGO:2001295\r\n",
      "Q9TTS3\tCHOYP_ACACA.7.7\tGO:2001295\r\n",
      "P09917\tCHOYP_LOC584481.1.10\tGO:2001300\r\n",
      "P15428\tCHOYP_PGDH.5.5\tGO:2001300\r\n",
      "Q8BP40\tCHOYP_LOC756773.1.1\tGO:2001311\r\n"
     ]
    }
   ],
   "source": [
    "!tail _blast-GO-unfolded.sorted"
   ]
  },
  {
   "cell_type": "code",
   "execution_count": 22,
   "metadata": {
    "collapsed": true
   },
   "outputs": [],
   "source": [
    "#joining files to get GOslim for each query (with duplicate GOslim / query removed)\n",
    "!join -1 3 -2 1 -t $'\\t' \\\n",
    "_blast-GO-unfolded.sorted \\\n",
    "GO-GOslim.sorted \\\n",
    "| uniq | awk -F'\\t' -v OFS='\\t' '{print $3, $1, $5, $6}' \\\n",
    "> Blastquery-GOslim-proteome.tab"
   ]
  },
  {
   "cell_type": "code",
   "execution_count": 23,
   "metadata": {},
   "outputs": [
    {
     "name": "stdout",
     "output_type": "stream",
     "text": [
      "CHOYP_MEF2A.1.1\tGO:0000002\tcell organization and biogenesis\tP\r\n",
      "CHOYP_MEF2C.1.1\tGO:0000002\tcell organization and biogenesis\tP\r\n",
      "CHOYP_LOC100888299.1.3\tGO:0000002\tcell organization and biogenesis\tP\r\n",
      "CHOYP_BRAFLDRAFT_244533.1.2\tGO:0000002\tcell organization and biogenesis\tP\r\n",
      "CHOYP_BRAFLDRAFT_244533.2.2\tGO:0000002\tcell organization and biogenesis\tP\r\n",
      "CHOYP_NEMVEDRAFT_V1G241446.2.2\tGO:0000002\tcell organization and biogenesis\tP\r\n",
      "CHOYP_MGME1.1.1\tGO:0000002\tcell organization and biogenesis\tP\r\n",
      "CHOYP_BRAFLDRAFT_92974.1.1\tGO:0000003\tother biological processes\tP\r\n",
      "CHOYP_BRAFLDRAFT_72229.2.2\tGO:0000009\tother molecular function\tF\r\n",
      "CHOYP_DPS1.1.1\tGO:0000010\tother molecular function\tF\r\n"
     ]
    }
   ],
   "source": [
    "!head Blastquery-GOslim-proteome.tab"
   ]
  },
  {
   "cell_type": "code",
   "execution_count": null,
   "metadata": {
    "collapsed": true
   },
   "outputs": [],
   "source": []
  }
 ],
 "metadata": {
  "kernelspec": {
   "display_name": "Python [default]",
   "language": "python",
   "name": "python3"
  },
  "language_info": {
   "codemirror_mode": {
    "name": "ipython",
    "version": 3
   },
   "file_extension": ".py",
   "mimetype": "text/x-python",
   "name": "python",
   "nbconvert_exporter": "python",
   "pygments_lexer": "ipython3",
   "version": "3.5.6"
  }
 },
 "nbformat": 4,
 "nbformat_minor": 2
}
