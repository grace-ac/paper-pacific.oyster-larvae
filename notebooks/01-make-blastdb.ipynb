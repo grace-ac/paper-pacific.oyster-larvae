{
 "cells": [
  {
   "cell_type": "markdown",
   "metadata": {},
   "source": [
    "# Notebook to make BLASTp database"
   ]
  },
  {
   "cell_type": "code",
   "execution_count": 1,
   "metadata": {},
   "outputs": [
    {
     "data": {
      "text/plain": [
       "'/Users/graciecrandall/Documents/GitHub/paper-pacific.oyster-larvae/notebooks'"
      ]
     },
     "execution_count": 1,
     "metadata": {},
     "output_type": "execute_result"
    }
   ],
   "source": [
    "pwd"
   ]
  },
  {
   "cell_type": "code",
   "execution_count": 2,
   "metadata": {},
   "outputs": [
    {
     "name": "stdout",
     "output_type": "stream",
     "text": [
      "/Users/graciecrandall/Documents/GitHub/paper-pacific.oyster-larvae/blastdb\n"
     ]
    }
   ],
   "source": [
    "cd /Users/graciecrandall/Documents/GitHub/paper-pacific.oyster-larvae/blastdb/"
   ]
  },
  {
   "cell_type": "code",
   "execution_count": 3,
   "metadata": {},
   "outputs": [
    {
     "data": {
      "text/plain": [
       "'/Users/graciecrandall/Documents/GitHub/paper-pacific.oyster-larvae/blastdb'"
      ]
     },
     "execution_count": 3,
     "metadata": {},
     "output_type": "execute_result"
    }
   ],
   "source": [
    "pwd"
   ]
  },
  {
   "cell_type": "code",
   "execution_count": 4,
   "metadata": {},
   "outputs": [
    {
     "name": "stdout",
     "output_type": "stream",
     "text": [
      "  % Total    % Received % Xferd  Average Speed   Time    Time     Time  Current\n",
      "                                 Dload  Upload   Total   Spent    Left  Speed\n",
      "100  263M  100  263M    0     0  7659k      0  0:00:35  0:00:35 --:--:-- 9844k 0  0:00:58  0:00:02  0:00:56 4654k\n"
     ]
    }
   ],
   "source": [
    "!curl -O http://gannet.fish.washington.edu/metacarcinus/Cgigas/uniprot_swprot2019_01.fasta"
   ]
  },
  {
   "cell_type": "code",
   "execution_count": 5,
   "metadata": {},
   "outputs": [
    {
     "name": "stdout",
     "output_type": "stream",
     "text": [
      "uniprot_swprot2019_01.fasta\r\n"
     ]
    }
   ],
   "source": [
    "!ls"
   ]
  },
  {
   "cell_type": "code",
   "execution_count": null,
   "metadata": {},
   "outputs": [
    {
     "name": "stdout",
     "output_type": "stream",
     "text": [
      "\n",
      "\n",
      "Building a new DB, current time: 03/26/2019 16:10:05\n",
      "New DB name:   /Users/graciecrandall/Documents/GitHub/Practicing-with-Blast/blastdb/uniprot_sprot\n",
      "New DB title:  uniprot_swprot2019_01.fasta\n",
      "Sequence type: Protein\n",
      "Deleted existing Protein BLAST database named /Users/graciecrandall/Documents/GitHub/Practicing-with-Blast/blastdb/uniprot_sprot\n",
      "Keep MBits: T\n",
      "Maximum file size: 1000000000B\n"
     ]
    }
   ],
   "source": [
    "!makeblastdb \\\n",
    "-in uniprot_swprot2019_01.fasta \\\n",
    "-dbtype prot \\\n",
    "-out /Users/graciecrandall/Documents/GitHub/Practicing-with-Blast/blastdb/uniprot_sprot "
   ]
  },
  {
   "cell_type": "code",
   "execution_count": null,
   "metadata": {
    "collapsed": true
   },
   "outputs": [],
   "source": []
  }
 ],
 "metadata": {
  "kernelspec": {
   "display_name": "Python [default]",
   "language": "python",
   "name": "python3"
  },
  "language_info": {
   "codemirror_mode": {
    "name": "ipython",
    "version": 3
   },
   "file_extension": ".py",
   "mimetype": "text/x-python",
   "name": "python",
   "nbconvert_exporter": "python",
   "pygments_lexer": "ipython3",
   "version": "3.5.3"
  }
 },
 "nbformat": 4,
 "nbformat_minor": 2
}
