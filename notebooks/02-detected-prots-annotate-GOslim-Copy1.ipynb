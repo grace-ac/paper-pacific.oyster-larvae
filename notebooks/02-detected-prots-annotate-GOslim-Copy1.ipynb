{
 "cells": [
  {
   "cell_type": "markdown",
   "metadata": {},
   "source": [
    "# Notebook to annotate _C. gigas_ MS Stats protein comparison list with GOslim"
   ]
  },
  {
   "cell_type": "code",
   "execution_count": 2,
   "metadata": {},
   "outputs": [
    {
     "data": {
      "text/plain": [
       "'/Users/graciecrandall/Documents/GitHub/paper-pacific.oyster-larvae/notebooks'"
      ]
     },
     "execution_count": 2,
     "metadata": {},
     "output_type": "execute_result"
    }
   ],
   "source": [
    "pwd"
   ]
  },
  {
   "cell_type": "code",
   "execution_count": 3,
   "metadata": {},
   "outputs": [
    {
     "name": "stdout",
     "output_type": "stream",
     "text": [
      "/Users/graciecrandall/Documents/GitHub/paper-pacific.oyster-larvae/analyses/0409\n"
     ]
    }
   ],
   "source": [
    "cd /Users/graciecrandall/Documents/GitHub/paper-pacific.oyster-larvae/analyses/0409/"
   ]
  },
  {
   "cell_type": "code",
   "execution_count": 4,
   "metadata": {},
   "outputs": [
    {
     "name": "stdout",
     "output_type": "stream",
     "text": [
      "0327-cgseedblast-sprot.tab        _MSout-sort.tab\r\n",
      "20190403-2015Cgseed-protcomp.csv  _blast-GO-unfolded.sorted\r\n",
      "20190403-2015Cgseed-protcomp.tab  _blast-GO-unfolded.tab\r\n",
      "Blastquery-GOslim.tab             _blast-annot.tab\r\n",
      "GO-GOslim.sorted                  _blast-sep.tab\r\n",
      "_MSout-noq-sep.tab                _blast-sort.tab\r\n",
      "_MSout-real-sep.tab               _intermediate.file\r\n",
      "_MSout-sep.tab                    uniprot-SP-GO.sorted\r\n"
     ]
    }
   ],
   "source": [
    "ls"
   ]
  },
  {
   "cell_type": "markdown",
   "metadata": {},
   "source": [
    "## Join Blastquery-GOslim.tab with MSstats output protein list"
   ]
  },
  {
   "cell_type": "code",
   "execution_count": 5,
   "metadata": {},
   "outputs": [
    {
     "name": "stdout",
     "output_type": "stream",
     "text": [
      "  % Total    % Received % Xferd  Average Speed   Time    Time     Time  Current\n",
      "                                 Dload  Upload   Total   Spent    Left  Speed\n",
      "100 13454  100 13454    0     0  38267      0 --:--:-- --:--:-- --:--:-- 67949\n"
     ]
    }
   ],
   "source": [
    "#add MSstats protein list from data directory into this 0409 directory\n",
    "!curl -O https://raw.githubusercontent.com/grace-ac/paper-pacific.oyster-larvae/master/analyses/proteins_comp_annot_threshold.csv"
   ]
  },
  {
   "cell_type": "code",
   "execution_count": 6,
   "metadata": {},
   "outputs": [
    {
     "name": "stdout",
     "output_type": "stream",
     "text": [
      "0327-cgseedblast-sprot.tab         _blast-GO-unfolded.sorted\r\n",
      "20190403-2015Cgseed-protcomp.csv   _blast-GO-unfolded.tab\r\n",
      "20190403-2015Cgseed-protcomp.tab   _blast-annot.tab\r\n",
      "Blastquery-GOslim.tab              _blast-sep.tab\r\n",
      "GO-GOslim.sorted                   _blast-sort.tab\r\n",
      "_MSout-noq-sep.tab                 _intermediate.file\r\n",
      "_MSout-real-sep.tab                proteins_comp_annot_threshold.csv\r\n",
      "_MSout-sep.tab                     uniprot-SP-GO.sorted\r\n",
      "_MSout-sort.tab\r\n"
     ]
    }
   ],
   "source": [
    "ls "
   ]
  },
  {
   "cell_type": "code",
   "execution_count": 7,
   "metadata": {
    "scrolled": true
   },
   "outputs": [
    {
     "name": "stdout",
     "output_type": "stream",
     "text": [
      "\"\",\"V1\",\"V2\",\"V3\",\"V4\",\"V5\",\"V6\",\"V7\"\r\n",
      "\"1\",\"CHOYP_CCDC146.1.1|m.11347\",\"23C-29C\",-6.80617243580348,\"Q8IYE0\",\"CC146_HUMAN\",\"sp|Q8IYE0|CC146_HUMAN Coiled-coil domain-containing protein 146 OS=Homo sapiens OX=9606 GN=CCDC146 PE=1 SV=2\",0\r\n",
      "\"2\",\"CHOYP_AAEL_AAEL005639.1.1|m.10386\",\"23C-29C\",-4.82102460514497,\"Q9BV94\",\"EDEM2_HUMAN\",\"sp|Q9BV94|EDEM2_HUMAN ER degradation-enhancing alpha-mannosidase-like protein 2 OS=Homo sapiens OX=9606 GN=EDEM2 PE=1 SV=2\",0\r\n",
      "\"3\",\"CHOYP_PCCB.2.2|m.62988\",\"23C-29C\",-4.43731576518277,\"P05166\",\"PCCB_HUMAN\",\"sp|P05166|PCCB_HUMAN Propionyl-CoA carboxylase beta chain, mitochondrial OS=Homo sapiens OX=9606 GN=PCCB PE=1 SV=3\",0\r\n",
      "\"4\",\"CHOYP_BRAFLDRAFT_120058.1.1|m.9895\",\"23C-29C\",-4.35886178063794,\"Q8WWB3\",\"DYDC1_HUMAN\",\"sp|Q8WWB3|DYDC1_HUMAN DPY30 domain-containing protein 1 OS=Homo sapiens OX=9606 GN=DYDC1 PE=1 SV=1\",8.57e-20\r\n",
      "\"5\",\"CHOYP_LRRF2.2.2|m.40846\",\"23C-29C\",-4.00727332463592,\"Q2T9W6\",\"LRRF2_BOVIN\",\"sp|Q2T9W6|LRRF2_BOVIN Leucine-rich repeat flightless-interacting protein 2 OS=Bos taurus OX=9913 GN=LRRFIP2 PE=2 SV=1\",3.63e-81\r\n",
      "\"6\",\"CHOYP_BRAFLDRAFT_126379.1.3|m.5102\",\"23C-29C\",-3.73314389144942,\"A2VDD2\",\"TC1DB_XENLA\",\"sp|A2VDD2|TC1DB_XENLA Tctex1 domain-containing protein 1-B (Fragment) OS=Xenopus laevis OX=8355 GN=tctex1d1-b PE=2 SV=1\",1.09e-17\r\n",
      "\"7\",\"CHOYP_BRAFLDRAFT_265162.1.3|m.58969\",\"23C-29C\",-3.46636807954102,\"Q5EAR5\",\"TRPT1_DANRE\",\"sp|Q5EAR5|TRPT1_DANRE tRNA 2'-phosphotransferase 1 OS=Danio rerio OX=7955 GN=trpt1 PE=2 SV=2\",3.11e-62\r\n",
      "\"8\",\"CHOYP_LOC100377780.8.11|m.53259\",\"23C-29C\",-3.34507255680141,\"Q53G44\",\"IF44L_HUMAN\",\"sp|Q53G44|IF44L_HUMAN Interferon-induced protein 44-like OS=Homo sapiens OX=9606 GN=IFI44L PE=2 SV=3\",9.13e-41\r\n",
      "\"9\",\"CHOYP_LOC100890099.1.1|m.11505\",\"23C-29C\",-3.22952859428152,\"P53486\",\"ACTB3_TAKRU\",\"sp|P53486|ACTB3_TAKRU Actin, cytoplasmic 3 OS=Takifugu rubripes OX=31033 GN=actbc PE=2 SV=1\",2.99e-166\r\n"
     ]
    }
   ],
   "source": [
    "!head proteins_comp_annot_threshold.csv"
   ]
  },
  {
   "cell_type": "code",
   "execution_count": 8,
   "metadata": {
    "collapsed": true
   },
   "outputs": [],
   "source": [
    "!cat proteins_comp_annot_threshold.csv | tr ',' \"\\t\" \\\n",
    "| sed 's/\"//g' \\\n",
    "| tail -n +2 \\\n",
    "| sort \\\n",
    "> proteins_comp_annot_threshold.tab"
   ]
  },
  {
   "cell_type": "code",
   "execution_count": 12,
   "metadata": {},
   "outputs": [
    {
     "name": "stdout",
     "output_type": "stream",
     "text": [
      "1\tCHOYP_CCDC146.1.1|m.11347\t23C-29C\t-6.80617243580348\tQ8IYE0\tCC146_HUMAN\tsp|Q8IYE0|CC146_HUMAN Coiled-coil domain-containing protein 146 OS=Homo sapiens OX=9606 GN=CCDC146 PE=1 SV=2\t0\r\n",
      "10\tCHOYP_LOC100748625.1.1|m.24479\t23C-29C\t-3.2195789591241\tQ9JIH2\tNUP50_MOUSE\tsp|Q9JIH2|NUP50_MOUSE Nuclear pore complex protein Nup50 OS=Mus musculus OX=10090 GN=Nup50 PE=1 SV=3\t1.35e-37\r\n",
      "11\tCHOYP_LOC101174856.1.1|m.47585\t23C-29C\t-3.18982228328846\tQ9Y6R4\tM3K4_HUMAN\tsp|Q9Y6R4|M3K4_HUMAN Mitogen-activated protein kinase kinase kinase 4 OS=Homo sapiens OX=9606 GN=MAP3K4 PE=1 SV=2\t0\r\n",
      "12\tCHOYP_LOC100372915.3.7|m.25794\t23C-29C\t-3.07508366360735\tQ0EEE2\tPTHD3_MOUSE\tsp|Q0EEE2|PTHD3_MOUSE Patched domain-containing protein 3 OS=Mus musculus OX=10090 GN=Ptchd3 PE=1 SV=1\t2.02e-102\r\n",
      "13\tCHOYP_ANR31.1.1|m.61075\t23C-29C\t-3.0736726268013\tQ8N7Z5\tANR31_HUMAN\tsp|Q8N7Z5|ANR31_HUMAN Putative ankyrin repeat domain-containing protein 31 OS=Homo sapiens OX=9606 GN=ANKRD31 PE=5 SV=2\t3.11e-13\r\n",
      "14\tCHOYP_ATS6.3.3|m.56109\t23C-29C\t-3.03711651497125\tQ69Z28\tATS16_MOUSE\tsp|Q69Z28|ATS16_MOUSE A disintegrin and metalloproteinase with thrombospondin motifs 16 OS=Mus musculus OX=10090 GN=Adamts16 PE=2 SV=2\t1.07e-43\r\n",
      "15\tCHOYP_LOC101160066.1.1|m.65775\t23C-29C\t-3.03050501411936\tA2VE47\tADPGK_BOVIN\tsp|A2VE47|ADPGK_BOVIN ADP-dependent glucokinase OS=Bos taurus OX=9913 GN=ADPGK PE=2 SV=1\t3.18e-123\r\n",
      "16\tCHOYP_FASN.3.4|m.60278\t23C-29C\t-2.94709531008681\tP12276\tFAS_CHICK\tsp|P12276|FAS_CHICK Fatty acid synthase OS=Gallus gallus OX=9031 GN=FASN PE=1 SV=5\t0\r\n",
      "17\tCHOYP_ISCW_ISCW021350.1.1|m.10332\t23C-29C\t-2.92090243575093\tQ01105\tSET_HUMAN\tsp|Q01105|SET_HUMAN Protein SET OS=Homo sapiens OX=9606 GN=SET PE=1 SV=3\t7.71e-92\r\n",
      "18\tCHOYP_IFIH1.10.14|m.60393\t23C-29C\t-2.91179188330497\tQ8R5F7\tIFIH1_MOUSE\tsp|Q8R5F7|IFIH1_MOUSE Interferon-induced helicase C domain-containing protein 1 OS=Mus musculus OX=10090 GN=Ifih1 PE=1 SV=1\t1.89e-54\r\n"
     ]
    }
   ],
   "source": [
    "!head proteins_comp_annot_threshold.tab"
   ]
  },
  {
   "cell_type": "code",
   "execution_count": 15,
   "metadata": {},
   "outputs": [],
   "source": [
    "#remove column 1\n",
    "!awk -v OFS='\\t' '{print $2, $3, $4, $5, $6, $7, $8}' < proteins_comp_annot_threshold.tab \\\n",
    "> _prot-comp-annot.tab"
   ]
  },
  {
   "cell_type": "code",
   "execution_count": 16,
   "metadata": {
    "scrolled": true
   },
   "outputs": [
    {
     "name": "stdout",
     "output_type": "stream",
     "text": [
      "CHOYP_CCDC146.1.1|m.11347\t23C-29C\t-6.80617243580348\tQ8IYE0\tCC146_HUMAN\tsp|Q8IYE0|CC146_HUMAN\tCoiled-coil\r\n",
      "CHOYP_LOC100748625.1.1|m.24479\t23C-29C\t-3.2195789591241\tQ9JIH2\tNUP50_MOUSE\tsp|Q9JIH2|NUP50_MOUSE\tNuclear\r\n"
     ]
    }
   ],
   "source": [
    "!head -2 _prot-comp-annot.tab"
   ]
  },
  {
   "cell_type": "code",
   "execution_count": 18,
   "metadata": {},
   "outputs": [],
   "source": [
    "!tr '|' '\\t' < _prot-comp-annot.tab \\\n",
    "> _prot-comp.tab"
   ]
  },
  {
   "cell_type": "code",
   "execution_count": 19,
   "metadata": {
    "scrolled": true
   },
   "outputs": [
    {
     "name": "stdout",
     "output_type": "stream",
     "text": [
      "CHOYP_CCDC146.1.1\tm.11347\t23C-29C\t-6.80617243580348\tQ8IYE0\tCC146_HUMAN\tsp\tQ8IYE0\tCC146_HUMAN\tCoiled-coil\r\n",
      "CHOYP_LOC100748625.1.1\tm.24479\t23C-29C\t-3.2195789591241\tQ9JIH2\tNUP50_MOUSE\tsp\tQ9JIH2\tNUP50_MOUSE\tNuclear\r\n"
     ]
    }
   ],
   "source": [
    "!head -2 _prot-comp.tab"
   ]
  },
  {
   "cell_type": "code",
   "execution_count": 23,
   "metadata": {},
   "outputs": [],
   "source": [
    "#remove column with m.###\n",
    "!awk -v OFS='\\t' '{print $1, $3, $4, $5, $6, $7, $8}' < _prot-comp.tab \\\n",
    "> _prot-comp-final.tab"
   ]
  },
  {
   "cell_type": "code",
   "execution_count": 24,
   "metadata": {},
   "outputs": [
    {
     "name": "stdout",
     "output_type": "stream",
     "text": [
      "CHOYP_CCDC146.1.1\t23C-29C\t-6.80617243580348\tQ8IYE0\tCC146_HUMAN\tsp\tQ8IYE0\r\n",
      "CHOYP_LOC100748625.1.1\t23C-29C\t-3.2195789591241\tQ9JIH2\tNUP50_MOUSE\tsp\tQ9JIH2\r\n"
     ]
    }
   ],
   "source": [
    "!head -2 _prot-comp-final.tab"
   ]
  },
  {
   "cell_type": "code",
   "execution_count": 25,
   "metadata": {},
   "outputs": [
    {
     "name": "stdout",
     "output_type": "stream",
     "text": [
      "CHOYP_MEF2A.1.1\tGO:0000002\tcell organization and biogenesis\tP\r\n",
      "CHOYP_MEF2C.1.1\tGO:0000002\tcell organization and biogenesis\tP\r\n"
     ]
    }
   ],
   "source": [
    "!head -2 Blastquery-GOslim.tab"
   ]
  },
  {
   "cell_type": "code",
   "execution_count": 47,
   "metadata": {},
   "outputs": [],
   "source": [
    "#join _prot-comp-final.tab with Blastquery-GOslim.tab\n",
    "!join -t $'\\t' \\\n",
    "_prot-comp-final.tab \\\n",
    "Blastquery-GOslim.tab \\\n",
    "> protcomp-diff-annot.tab"
   ]
  },
  {
   "cell_type": "code",
   "execution_count": 49,
   "metadata": {
    "collapsed": true
   },
   "outputs": [],
   "source": [
    "!head protcomp-diff-annot.tab"
   ]
  },
  {
   "cell_type": "code",
   "execution_count": null,
   "metadata": {
    "collapsed": true
   },
   "outputs": [],
   "source": []
  }
 ],
 "metadata": {
  "kernelspec": {
   "display_name": "Python [default]",
   "language": "python",
   "name": "python3"
  },
  "language_info": {
   "codemirror_mode": {
    "name": "ipython",
    "version": 3
   },
   "file_extension": ".py",
   "mimetype": "text/x-python",
   "name": "python",
   "nbconvert_exporter": "python",
   "pygments_lexer": "ipython3",
   "version": "3.5.3"
  }
 },
 "nbformat": 4,
 "nbformat_minor": 2
}
