{
 "cells": [
  {
   "cell_type": "markdown",
   "metadata": {},
   "source": [
    "# Notebook to annotate _C. gigas_ MS Stats protein comparison list with GOslim"
   ]
  },
  {
   "cell_type": "code",
   "execution_count": 1,
   "metadata": {},
   "outputs": [
    {
     "data": {
      "text/plain": [
       "'/Users/graciecrandall/Documents/GitHub/paper-pacific.oyster-larvae/notebooks'"
      ]
     },
     "execution_count": 1,
     "metadata": {},
     "output_type": "execute_result"
    }
   ],
   "source": [
    "pwd"
   ]
  },
  {
   "cell_type": "code",
   "execution_count": 2,
   "metadata": {},
   "outputs": [
    {
     "name": "stdout",
     "output_type": "stream",
     "text": [
      "/Users/graciecrandall/Documents/GitHub/paper-pacific.oyster-larvae/analyses/0409\n"
     ]
    }
   ],
   "source": [
    "cd /Users/graciecrandall/Documents/GitHub/paper-pacific.oyster-larvae/analyses/0409/"
   ]
  },
  {
   "cell_type": "code",
   "execution_count": 3,
   "metadata": {},
   "outputs": [
    {
     "name": "stdout",
     "output_type": "stream",
     "text": [
      "0327-cgseedblast-sprot.tab  _blast-annot.tab\r\n",
      "Blastquery-GOslim.tab       _blast-sep.tab\r\n",
      "GO-GOslim.sorted            _blast-sort.tab\r\n",
      "_blast-GO-unfolded.sorted   _intermediate.file\r\n",
      "_blast-GO-unfolded.tab      uniprot-SP-GO.sorted\r\n"
     ]
    }
   ],
   "source": [
    "ls"
   ]
  },
  {
   "cell_type": "markdown",
   "metadata": {},
   "source": [
    "## Join Blastquery-GOslim.tab with MSstats output protein list"
   ]
  },
  {
   "cell_type": "code",
   "execution_count": 17,
   "metadata": {},
   "outputs": [
    {
     "name": "stdout",
     "output_type": "stream",
     "text": [
      "  % Total    % Received % Xferd  Average Speed   Time    Time     Time  Current\n",
      "                                 Dload  Upload   Total   Spent    Left  Speed\n",
      "100  399k  100  399k    0     0   468k      0 --:--:-- --:--:-- --:--:--  496k\n"
     ]
    }
   ],
   "source": [
    "#add MSstats protein list from data directory into this 0409 directory\n",
    "!curl -O https://raw.githubusercontent.com/grace-ac/paper-pacific.oyster-larvae/master/data/20190403-2015Cgseed-protcomp.csv"
   ]
  },
  {
   "cell_type": "code",
   "execution_count": 18,
   "metadata": {},
   "outputs": [
    {
     "name": "stdout",
     "output_type": "stream",
     "text": [
      "0327-cgseedblast-sprot.tab        _blast-GO-unfolded.tab\r\n",
      "20190403-2015Cgseed-protcomp.csv  _blast-annot.tab\r\n",
      "Blastquery-GOslim.tab             _blast-sep.tab\r\n",
      "GO-GOslim.sorted                  _blast-sort.tab\r\n",
      "_MSout-sep.tab                    _intermediate.file\r\n",
      "_blast-GO-unfolded.sorted         uniprot-SP-GO.sorted\r\n"
     ]
    }
   ],
   "source": [
    "ls "
   ]
  },
  {
   "cell_type": "code",
   "execution_count": 19,
   "metadata": {
    "collapsed": true
   },
   "outputs": [],
   "source": [
    "#set MSstats output as an object\n",
    "MSout=\"20190403-2015Cgseed-protcomp.csv\""
   ]
  },
  {
   "cell_type": "code",
   "execution_count": 20,
   "metadata": {
    "scrolled": true
   },
   "outputs": [
    {
     "name": "stdout",
     "output_type": "stream",
     "text": [
      "\"Protein\",\"Label\",\"log2FC\",\"SE\",\"Tvalue\",\"DF\",\"pvalue\",\"adj.pvalue\",\"issue\",\"MissingPercentage\",\"ImputationPercentage\"\r\n",
      "\"CHOYP_1433E.1.2|m.3638\",\"23C-29C\",0.20201735498334,0.350608753301223,0.576190277855893,8,0.58033085335551,0.87802607957783,NA,0.75,0.5\r\n",
      "\"CHOYP_1433G.2.2|m.63450\",\"23C-29C\",-0.0136646753521461,0.159946112327554,-0.0854329946085978,12,0.933326024391637,0.986693320597668,NA,0.75,0.75\r\n",
      "\"CHOYP_1433Z.1.1|m.17045\",\"23C-29C\",0.335394816499807,0.725462631616861,0.462318528732903,12,0.652123118167097,0.901451791414952,NA,0.717105263157895,0.717105263157895\r\n",
      "\"CHOYP_2AAA.1.1|m.13306\",\"23C-29C\",0.23501091241549,0.469517358933068,0.500537217515299,8,0.630174372853334,0.899925258448609,NA,0.75,0.5\r\n",
      "\"CHOYP_4EBP1.1.1|m.12045\",\"23C-29C\",-1.1862494965682,0.515231743292566,-2.30236104822952,1,0.26085641529694,0.793903773221917,NA,0.75,0\r\n",
      "\"CHOYP_A2M.2.3|m.54214\",\"23C-29C\",-0.509200080657486,0.0844954135907866,-6.02636355061299,1,0.10468523483693,0.779210870341361,NA,0.75,0\r\n",
      "\"CHOYP_A4.3.3|m.22262\",\"23C-29C\",-0.749915192464954,0.7189772941377,-1.04303042471509,4,0.355822019196463,0.798751792124778,NA,0.75,0.25\r\n",
      "\"CHOYP_AAAD.2.4|m.28999\",\"23C-29C\",0.665713958804094,0.829967428856466,0.802096486751678,1,0.569633586748527,0.877435107850004,NA,0.75,0\r\n",
      "\"CHOYP_AACS.1.1|m.66267\",\"23C-29C\",-0.605920152483842,0.479174729408632,-1.26450773652365,8,0.241641328407404,0.788087039158866,NA,0.645833333333333,0.395833333333333\r\n"
     ]
    }
   ],
   "source": [
    "!head $MSout"
   ]
  },
  {
   "cell_type": "code",
   "execution_count": 48,
   "metadata": {},
   "outputs": [],
   "source": [
    "!cat 20190403-2015Cgseed-protcomp.csv | tr ',' \"\\t\" \\\n",
    "| sed 's/\"//g' \\\n",
    "| tail -n +2 \\\n",
    "| sort \\\n",
    "> /Users/graciecrandall/Documents/GitHub/paper-pacific.oyster-larvae/analyses/0409/20190403-2015Cgseed-protcomp.tab"
   ]
  },
  {
   "cell_type": "code",
   "execution_count": 49,
   "metadata": {},
   "outputs": [
    {
     "name": "stdout",
     "output_type": "stream",
     "text": [
      "CHOYP_1433E.1.2|m.3638\t23C-29C\t0.20201735498334\t0.350608753301223\t0.576190277855893\t8\t0.58033085335551\t0.87802607957783\tNA\t0.75\t0.5\r\n",
      "CHOYP_1433G.2.2|m.63450\t23C-29C\t-0.0136646753521461\t0.159946112327554\t-0.0854329946085978\t12\t0.933326024391637\t0.986693320597668\tNA\t0.75\t0.75\r\n",
      "CHOYP_1433Z.1.1|m.17045\t23C-29C\t0.335394816499807\t0.725462631616861\t0.462318528732903\t12\t0.652123118167097\t0.901451791414952\tNA\t0.717105263157895\t0.717105263157895\r\n",
      "CHOYP_2AAA.1.1|m.13306\t23C-29C\t0.23501091241549\t0.469517358933068\t0.500537217515299\t8\t0.630174372853334\t0.899925258448609\tNA\t0.75\t0.5\r\n",
      "CHOYP_4EBP1.1.1|m.12045\t23C-29C\t-1.1862494965682\t0.515231743292566\t-2.30236104822952\t1\t0.26085641529694\t0.793903773221917\tNA\t0.75\t0\r\n",
      "CHOYP_A2M.2.3|m.54214\t23C-29C\t-0.509200080657486\t0.0844954135907866\t-6.02636355061299\t1\t0.10468523483693\t0.779210870341361\tNA\t0.75\t0\r\n",
      "CHOYP_A4.3.3|m.22262\t23C-29C\t-0.749915192464954\t0.7189772941377\t-1.04303042471509\t4\t0.355822019196463\t0.798751792124778\tNA\t0.75\t0.25\r\n",
      "CHOYP_AAAD.2.4|m.28999\t23C-29C\t0.665713958804094\t0.829967428856466\t0.802096486751678\t1\t0.569633586748527\t0.877435107850004\tNA\t0.75\t0\r\n",
      "CHOYP_AACS.1.1|m.66267\t23C-29C\t-0.605920152483842\t0.479174729408632\t-1.26450773652365\t8\t0.241641328407404\t0.788087039158866\tNA\t0.645833333333333\t0.395833333333333\r\n",
      "CHOYP_AADAT.1.1|m.12672\t23C-29C\t0.689727619844991\t0.123300267653179\t5.59388582825359\t1\t0.112616763512851\t0.781129361328546\tNA\t0.75\t0\r\n"
     ]
    }
   ],
   "source": [
    "!head /Users/graciecrandall/Documents/GitHub/paper-pacific.oyster-larvae/analyses/0409/20190403-2015Cgseed-protcomp.tab"
   ]
  },
  {
   "cell_type": "code",
   "execution_count": null,
   "metadata": {
    "collapsed": true
   },
   "outputs": [],
   "source": []
  }
 ],
 "metadata": {
  "kernelspec": {
   "display_name": "Python [default]",
   "language": "python",
   "name": "python3"
  },
  "language_info": {
   "codemirror_mode": {
    "name": "ipython",
    "version": 3
   },
   "file_extension": ".py",
   "mimetype": "text/x-python",
   "name": "python",
   "nbconvert_exporter": "python",
   "pygments_lexer": "ipython3",
   "version": "3.5.3"
  }
 },
 "nbformat": 4,
 "nbformat_minor": 2
}
